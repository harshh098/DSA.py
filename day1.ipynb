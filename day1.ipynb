{
  "nbformat": 4,
  "nbformat_minor": 0,
  "metadata": {
    "colab": {
      "provenance": [],
      "authorship_tag": "ABX9TyMDsDwTUI+K6z0PmSvrxwiS",
      "include_colab_link": true
    },
    "kernelspec": {
      "name": "python3",
      "display_name": "Python 3"
    },
    "language_info": {
      "name": "python"
    }
  },
  "cells": [
    {
      "cell_type": "markdown",
      "metadata": {
        "id": "view-in-github",
        "colab_type": "text"
      },
      "source": [
        "<a href=\"https://colab.research.google.com/github/harshh098/DSA.py/blob/main/day1.ipynb\" target=\"_parent\"><img src=\"https://colab.research.google.com/assets/colab-badge.svg\" alt=\"Open In Colab\"/></a>"
      ]
    },
    {
      "cell_type": "code",
      "execution_count": null,
      "metadata": {
        "colab": {
          "base_uri": "https://localhost:8080/"
        },
        "id": "hZIHRlWL8_uG",
        "outputId": "91adaf5b-f985-4283-ff4f-e59f02973a7b"
      },
      "outputs": [
        {
          "output_type": "stream",
          "name": "stdout",
          "text": [
            "Enter the number:5\n",
            "1\n",
            "12\n",
            "123\n",
            "1234\n",
            "12345\n"
          ]
        }
      ],
      "source": [
        "# print pattern\n",
        "'''\n",
        "1\n",
        "12\n",
        "123\n",
        "1234\n",
        "12345\n",
        "\n",
        "'''\n",
        "num=int(input((\"Enter the number:\")))\n",
        "for i in range(1,num+1):\n",
        "  for j in range(1,i+1):\n",
        "    print(j,end=\"\")\n",
        "  print()"
      ]
    },
    {
      "cell_type": "code",
      "source": [
        "# print pattern\n",
        "'''\n",
        "54321\n",
        "4321\n",
        "321\n",
        "21\n",
        "1\n",
        "\n",
        "'''\n",
        "\n",
        "num=int(input(\"Enter the number :\"))\n",
        "for i in range(num,0,-1):\n",
        "  for j in range(i,0,-1):\n",
        "    print(j,end=\"\")\n",
        "  print()"
      ],
      "metadata": {
        "colab": {
          "base_uri": "https://localhost:8080/"
        },
        "id": "M0ClhX6a-NsC",
        "outputId": "3b2b439e-9ae2-4b20-ec28-b86b53f082f9"
      },
      "execution_count": null,
      "outputs": [
        {
          "output_type": "stream",
          "name": "stdout",
          "text": [
            "Enter the number :5\n",
            "54321\n",
            "4321\n",
            "321\n",
            "21\n",
            "1\n"
          ]
        }
      ]
    },
    {
      "cell_type": "code",
      "source": [
        "n=5\n",
        "for i in range(1,n+1):\n",
        "  for j in range(1,i+1):\n",
        "    print(\"*\",end=\"\")\n",
        "  print()"
      ],
      "metadata": {
        "colab": {
          "base_uri": "https://localhost:8080/"
        },
        "id": "VXJ8inInAx48",
        "outputId": "9be21493-9600-4246-aa9f-bc6a19bf6010"
      },
      "execution_count": null,
      "outputs": [
        {
          "output_type": "stream",
          "name": "stdout",
          "text": [
            "*\n",
            "**\n",
            "***\n",
            "****\n",
            "*****\n"
          ]
        }
      ]
    },
    {
      "cell_type": "code",
      "source": [
        "n=5\n",
        "for i in range(n,0,-1):\n",
        "  for j in range(i,0,-1):\n",
        "    print(\"*\",end=\"\")\n",
        "  print()"
      ],
      "metadata": {
        "colab": {
          "base_uri": "https://localhost:8080/"
        },
        "id": "Ppkv2j5xBf6I",
        "outputId": "e64738e1-ce55-4ccf-d0a4-bbbf0dc6b410"
      },
      "execution_count": null,
      "outputs": [
        {
          "output_type": "stream",
          "name": "stdout",
          "text": [
            "*****\n",
            "****\n",
            "***\n",
            "**\n",
            "*\n"
          ]
        }
      ]
    },
    {
      "cell_type": "code",
      "source": [
        "# print pyramid\n",
        "'''\n",
        "    *\n",
        "   * *\n",
        "  * * *\n",
        " * * * *\n",
        "* * * * *\n",
        "\n",
        "'''\n",
        "\n",
        "\n",
        "n=5\n",
        "for i in range(1,n+1):\n",
        "  for spaces in range(1,n-i+1):\n",
        "    print(\" \",end=\"\")\n",
        "\n",
        "  for j in range(1,i+1):\n",
        "    print(\" *\",end=\"\")\n",
        "\n",
        "  print()\n"
      ],
      "metadata": {
        "colab": {
          "base_uri": "https://localhost:8080/"
        },
        "id": "e6NoJbCgDp5U",
        "outputId": "40dcf3d0-12cb-44ce-c935-3d643c771517"
      },
      "execution_count": null,
      "outputs": [
        {
          "output_type": "stream",
          "name": "stdout",
          "text": [
            "     *\n",
            "    * *\n",
            "   * * *\n",
            "  * * * *\n",
            " * * * * *\n"
          ]
        }
      ]
    },
    {
      "cell_type": "code",
      "source": [
        "# print reverse pyramid\n",
        "\n",
        "'''\n",
        "* * * * *\n",
        " * * * *\n",
        "  * * *\n",
        "   * *\n",
        "    *\n",
        " '''\n",
        "\n",
        "n=5\n",
        "for i in range(n,0,-1):\n",
        "  for spaces in range(1,n-i+1):\n",
        "    print(\" \",end=\"\")\n",
        "\n",
        "  for j in range(i,0,-1):\n",
        "    print(\"* \",end=\"\")\n",
        "  print()"
      ],
      "metadata": {
        "colab": {
          "base_uri": "https://localhost:8080/"
        },
        "id": "tbUzODr-Fyrf",
        "outputId": "fa26b2a3-3de4-4369-b75f-7506eed708af"
      },
      "execution_count": null,
      "outputs": [
        {
          "output_type": "stream",
          "name": "stdout",
          "text": [
            "* * * * * \n",
            " * * * * \n",
            "  * * * \n",
            "   * * \n",
            "    * \n"
          ]
        }
      ]
    },
    {
      "cell_type": "code",
      "source": [
        "# print diamond pattern\n",
        "\n",
        "'''\n",
        "    *\n",
        "   ***\n",
        "  *****\n",
        " *******\n",
        "*********\n",
        " *******\n",
        "  *****\n",
        "   ***\n",
        "    *\n",
        " '''\n",
        "\n",
        "\n",
        "\n",
        "n=5\n",
        "for i in range(1,n+1):\n",
        "  print(\" \" *(n-i)+\"*\"*(2*i-1))\n",
        "\n",
        "for j in range(n-1,0,-1):\n",
        "  print(\" \" *(n-j)+\"*\"*(2*j-1))"
      ],
      "metadata": {
        "colab": {
          "base_uri": "https://localhost:8080/"
        },
        "id": "4s1cxnBDG9hy",
        "outputId": "a6d84e94-a6c4-4a71-980e-bb33d314d72f"
      },
      "execution_count": 2,
      "outputs": [
        {
          "output_type": "stream",
          "name": "stdout",
          "text": [
            " *******\n",
            "  *****\n",
            "   ***\n",
            "    *\n"
          ]
        }
      ]
    },
    {
      "cell_type": "code",
      "source": [
        "# print pattern hollow square\n",
        "'''\n",
        "***\n",
        "* *\n",
        "***\n",
        "\n",
        "'''\n",
        "\n",
        "n=3\n",
        "for i in range(n):\n",
        "  for j in range(n):\n",
        "\n",
        "    if i==0 or i==n-1 or j==0 or j==n-1:\n",
        "      print(\"*\",end=\"\")\n",
        "    else:\n",
        "      print(\" \",end=\"\")\n",
        "  print()\n",
        "\n",
        "\n"
      ],
      "metadata": {
        "colab": {
          "base_uri": "https://localhost:8080/"
        },
        "id": "fc9tNBceNYYn",
        "outputId": "111a98de-b822-4a7d-ec1b-ab259beeb0a3"
      },
      "execution_count": null,
      "outputs": [
        {
          "output_type": "stream",
          "name": "stdout",
          "text": [
            "***\n",
            "* *\n",
            "***\n"
          ]
        }
      ]
    },
    {
      "cell_type": "code",
      "source": [
        "# print sum of n natural number using recursion\n",
        "\n",
        "def sum(n):\n",
        "  if n==1:\n",
        "    return 1\n",
        "  else:\n",
        "    return n+sum(n-1)\n",
        "\n",
        "n=int(input(\"Enter the number :\"))\n",
        "print(f\"the sum of number is :{sum(n)}\")\n",
        "\n",
        "\n"
      ],
      "metadata": {
        "id": "vtJjMzXAN7cp",
        "colab": {
          "base_uri": "https://localhost:8080/"
        },
        "outputId": "88816ed4-a370-4cd7-f29a-0f60843cde38"
      },
      "execution_count": null,
      "outputs": [
        {
          "output_type": "stream",
          "name": "stdout",
          "text": [
            "Enter the number :4\n",
            "the sum of number is :10\n"
          ]
        }
      ]
    },
    {
      "cell_type": "code",
      "source": [
        "# print sum of even number\n",
        "\n",
        "n=int(input(\"Enter the number :\"))\n",
        "sum=0\n",
        "for i in range(n+1):\n",
        "  if i%2==0:\n",
        "    sum+=i\n",
        "print(f\"the sum of even number is :{sum}\")\n"
      ],
      "metadata": {
        "colab": {
          "base_uri": "https://localhost:8080/"
        },
        "id": "sVyIdkuZc5VW",
        "outputId": "592d9d1d-e957-4a4a-dd4f-60882938752a"
      },
      "execution_count": 3,
      "outputs": [
        {
          "output_type": "stream",
          "name": "stdout",
          "text": [
            "Enter the number :10\n",
            "the sum of even number is :30\n"
          ]
        }
      ]
    },
    {
      "cell_type": "code",
      "source": [
        "# print factorial using recursion\n",
        "\n",
        "def fact(n):\n",
        "  if n==1 or n==1:\n",
        "    return 1\n",
        "  else:\n",
        "    return n * fact(n-1)\n",
        "n=int(input(\"Enter the number :\"))\n",
        "print(f\" the factorial of number is :{fact(n)}\")\n",
        "\n",
        "\n",
        "\n",
        "# n=5\n",
        "# fact=1\n",
        "# for i in range(1,6):\n",
        "#   fact=fact*i\n",
        "# print(fact)"
      ],
      "metadata": {
        "colab": {
          "base_uri": "https://localhost:8080/"
        },
        "id": "-vs4F51odgOd",
        "outputId": "7bc17c66-10bf-4f8a-93ef-2558a2e63dd3"
      },
      "execution_count": 5,
      "outputs": [
        {
          "output_type": "stream",
          "name": "stdout",
          "text": [
            "120\n"
          ]
        }
      ]
    },
    {
      "cell_type": "code",
      "source": [
        "# print n number of prime number\n",
        "\n",
        "n = int(input(\"Enter a number: \"))\n",
        "\n",
        "print(\"Prime numbers from 1 to\", n, \"are:\")\n",
        "\n",
        "for num in range(2, n + 1):\n",
        "    is_prime = True\n",
        "    for i in range(2, int(num ** 0.5) + 1):\n",
        "        if num % i == 0:\n",
        "            is_prime = False\n",
        "            break\n",
        "    if is_prime:\n",
        "        print(num)\n"
      ],
      "metadata": {
        "colab": {
          "base_uri": "https://localhost:8080/"
        },
        "id": "l3yrtIc_z-t7",
        "outputId": "04f3ab1e-215d-4abd-c846-3eb18c3da248"
      },
      "execution_count": 57,
      "outputs": [
        {
          "output_type": "stream",
          "name": "stdout",
          "text": [
            "Enter a number: 50\n",
            "Prime numbers from 1 to 50 are:\n",
            "2\n",
            "3\n",
            "5\n",
            "7\n",
            "11\n",
            "13\n",
            "17\n",
            "19\n",
            "23\n",
            "29\n",
            "31\n",
            "37\n",
            "41\n",
            "43\n",
            "47\n"
          ]
        }
      ]
    },
    {
      "cell_type": "code",
      "source": [
        "num=int(input(\"Enter the number :\"))\n",
        "is_prime=True\n",
        "\n",
        "for i in range(2,num): # for i in range(2,int(num**0.5)+1):\n",
        "  if num%i==0:\n",
        "    is_prime=False\n",
        "    break\n",
        "\n",
        "if is_prime and num>1:\n",
        "      print(\"num is  prime\")\n",
        "else:\n",
        "      print(\"num is not  prime \")\n",
        "\n"
      ],
      "metadata": {
        "colab": {
          "base_uri": "https://localhost:8080/"
        },
        "outputId": "80f2847d-2c3f-4955-c7b4-df78323cc82b",
        "id": "ys-ZIF9k7MQ-"
      },
      "execution_count": 11,
      "outputs": [
        {
          "output_type": "stream",
          "name": "stdout",
          "text": [
            "Enter the number :107\n",
            "num is  prime\n"
          ]
        }
      ]
    },
    {
      "cell_type": "code",
      "source": [
        "# print n  even number\n",
        "num=int(input(\"Enter the number :\"))\n",
        "for i in range(0,num+1):\n",
        "  if i%2==0:\n",
        "    print(i)"
      ],
      "metadata": {
        "id": "zrb2fZi67ebk",
        "colab": {
          "base_uri": "https://localhost:8080/"
        },
        "outputId": "356b6e83-664e-44f2-8876-33fe0c12e09e"
      },
      "execution_count": 14,
      "outputs": [
        {
          "output_type": "stream",
          "name": "stdout",
          "text": [
            "Enter the number :10\n",
            "0\n",
            "2\n",
            "4\n",
            "6\n",
            "8\n",
            "10\n"
          ]
        }
      ]
    },
    {
      "cell_type": "code",
      "source": [
        "# count the number of words in a sentence\n",
        "\n",
        "n=\"python is an easy language\"\n",
        "count=0\n",
        "for words in n :\n",
        "  words=n.split()\n",
        "  count+=len(words)\n",
        "print(len(words))\n",
        "\n",
        "\n",
        "n=\"i am from virar\"\n",
        "count=0\n",
        "words=n.split(' ')\n",
        "for i in words:\n",
        "  count=count+1\n",
        "print(count)\n"
      ],
      "metadata": {
        "colab": {
          "base_uri": "https://localhost:8080/"
        },
        "id": "N5aU1uzNjV_F",
        "outputId": "15ba550e-6fd0-4277-ad73-bc6338c32973"
      },
      "execution_count": 58,
      "outputs": [
        {
          "output_type": "stream",
          "name": "stdout",
          "text": [
            "5\n",
            "4\n"
          ]
        }
      ]
    },
    {
      "cell_type": "code",
      "source": [
        "# remove duplicate elements in list without using set\n",
        "\n",
        "n=[1,2,3,4,5,6,1,4]\n",
        "for i in n:\n",
        "  if n.count(i)>1:\n",
        "    n.remove(i)\n",
        "print(n)\n",
        "\n",
        "\n",
        "new_list=[]\n",
        "for i in n:\n",
        "  if i not in new_list:\n",
        "    new_list.append(i)\n",
        "    new_list.sort()\n",
        "print(new_list)\n"
      ],
      "metadata": {
        "colab": {
          "base_uri": "https://localhost:8080/"
        },
        "id": "pEzY-qCFnxkW",
        "outputId": "58bc88f4-6795-4683-8cb3-73432b7303fb"
      },
      "execution_count": 53,
      "outputs": [
        {
          "output_type": "stream",
          "name": "stdout",
          "text": [
            "[2, 3, 5, 6, 1, 4]\n",
            "[1, 2, 3, 4, 5, 6]\n"
          ]
        }
      ]
    },
    {
      "cell_type": "code",
      "source": [],
      "metadata": {
        "id": "UCwphR1GofJ-"
      },
      "execution_count": null,
      "outputs": []
    }
  ]
}