{
  "nbformat": 4,
  "nbformat_minor": 0,
  "metadata": {
    "colab": {
      "provenance": [],
      "authorship_tag": "ABX9TyPl23OlxPDemLCR/9lw97Sl",
      "include_colab_link": true
    },
    "kernelspec": {
      "name": "python3",
      "display_name": "Python 3"
    },
    "language_info": {
      "name": "python"
    }
  },
  "cells": [
    {
      "cell_type": "markdown",
      "metadata": {
        "id": "view-in-github",
        "colab_type": "text"
      },
      "source": [
        "<a href=\"https://colab.research.google.com/github/harshh098/DSA.py/blob/main/day2.ipynb\" target=\"_parent\"><img src=\"https://colab.research.google.com/assets/colab-badge.svg\" alt=\"Open In Colab\"/></a>"
      ]
    },
    {
      "cell_type": "code",
      "source": [
        "# check if all element in list are unique\n",
        "\n",
        "# [1,2,3,4,5,6]  True\n",
        "# [1,2,3,4,3,4]  False\n",
        "\n",
        "\n",
        "\n",
        "def unique(list):\n",
        "  for i in range(len(list)):\n",
        "    for j in range(i+1,len(list)):\n",
        "      if list[i]==list[j]:\n",
        "        return False\n",
        "  return True\n",
        "\n",
        "print(unique([1,2,3,4,5,6]))\n",
        "print(unique([1,2,3,4,3,4]))\n"
      ],
      "metadata": {
        "id": "fBVUZynbnfS4",
        "colab": {
          "base_uri": "https://localhost:8080/"
        },
        "outputId": "822c394d-9e00-41be-b04f-8f8d5b11c24f"
      },
      "execution_count": null,
      "outputs": [
        {
          "output_type": "stream",
          "name": "stdout",
          "text": [
            "True\n",
            "False\n"
          ]
        }
      ]
    },
    {
      "cell_type": "code",
      "source": [
        "# find the index of given element in th list\n",
        "\n",
        "\n",
        "\n",
        "a=[10,20,30,40]\n",
        "n=int(input(\"Enter the number\"))\n",
        "\n",
        "n_found=False\n",
        "\n",
        "for i in range(0,len(a)):\n",
        "  if a[i]==n:\n",
        "    print(i)\n",
        "    n_found=True\n",
        "if n_found is False:\n",
        "      print(\"number is not in the list\")\n",
        "\n",
        "\n",
        "\n"
      ],
      "metadata": {
        "colab": {
          "base_uri": "https://localhost:8080/"
        },
        "id": "Txwtu15FlPGr",
        "outputId": "a7d8afde-0b12-4d89-a451-cb96e96ddcf0"
      },
      "execution_count": null,
      "outputs": [
        {
          "output_type": "stream",
          "name": "stdout",
          "text": [
            "Enter the number40\n",
            "3\n"
          ]
        }
      ]
    },
    {
      "cell_type": "code",
      "source": [
        "# find average in list\n",
        "\n",
        "n=[10,20,30]\n",
        "count=0\n",
        "\n",
        "for i in n:\n",
        "  count=count+i\n",
        "avg=count/len(n)\n",
        "print(avg)\n",
        "\n",
        "\n"
      ],
      "metadata": {
        "colab": {
          "base_uri": "https://localhost:8080/"
        },
        "id": "ir5QkRLMoKuv",
        "outputId": "b46f8abb-4f7b-4254-e538-1c9b201e31db"
      },
      "execution_count": null,
      "outputs": [
        {
          "output_type": "stream",
          "name": "stdout",
          "text": [
            "20.0\n"
          ]
        }
      ]
    },
    {
      "cell_type": "code",
      "source": [
        "n=int(input(\"Enter the number :\"))\n",
        "\n",
        "print(\"Prime numbers from 1 to\", n, \"are:\")\n",
        "\n",
        "\n",
        "for num in range(2,n+1):\n",
        "  is_prime=True\n",
        "  for i in (2,int(num**0.5)+1):\n",
        "    if num % i==0:\n",
        "      is_prime=False\n",
        "      break\n",
        "  if is_prime:\n",
        "    print(num)\n",
        "\n",
        "\n",
        "\n"
      ],
      "metadata": {
        "colab": {
          "base_uri": "https://localhost:8080/"
        },
        "id": "cYv-Rdb_pvFF",
        "outputId": "e51a7d25-b3a3-4138-8b64-31fcacf16ccf"
      },
      "execution_count": 3,
      "outputs": [
        {
          "output_type": "stream",
          "name": "stdout",
          "text": [
            "Enter the number :10\n",
            "Prime numbers from 1 to 10 are:\n",
            "10\n"
          ]
        }
      ]
    },
    {
      "cell_type": "code",
      "source": [
        "# find sum of all this digit\n",
        "\n",
        "a='12345'\n",
        "# 1+2+3+4+5=15\n",
        "\n",
        "\n",
        "sum=0\n",
        "for i in a:\n",
        "  sum=sum+int(i)\n",
        "print(sum)\n",
        "\n",
        "\n"
      ],
      "metadata": {
        "colab": {
          "base_uri": "https://localhost:8080/"
        },
        "id": "o5P2rILlrVJb",
        "outputId": "7b7cc5b4-ddca-40e9-e76f-33a53fc61cb3"
      },
      "execution_count": null,
      "outputs": [
        {
          "output_type": "stream",
          "name": "stdout",
          "text": [
            "15\n"
          ]
        }
      ]
    },
    {
      "cell_type": "code",
      "source": [
        "# swapping first and last element\n",
        "\n",
        "n=[1,2,3,4]\n",
        "\n",
        "n[0],n[3]=n[3],n[0]\n",
        "print(n)\n",
        "\n",
        "\n",
        "# using for loop\n",
        "\n",
        "for i in range(len(n)-1):\n",
        "  first_num=n[0]\n",
        "  if i==len(n)-1:\n",
        "    n[0]=n[i]\n",
        "    n[i]=first_num\n",
        "\n",
        "print(n)\n",
        "\n",
        "\n",
        "\n"
      ],
      "metadata": {
        "colab": {
          "base_uri": "https://localhost:8080/"
        },
        "id": "L-cxpmjPvI2v",
        "outputId": "4f6c1154-2898-431b-c4e5-4d400dc443b7"
      },
      "execution_count": null,
      "outputs": [
        {
          "output_type": "stream",
          "name": "stdout",
          "text": [
            "[4, 2, 3, 1]\n",
            "[4, 2, 3, 1]\n"
          ]
        }
      ]
    },
    {
      "cell_type": "code",
      "source": [
        "# check if list is sorted\n",
        "# list =[1,2,3,4]\n",
        "\n",
        "def sorted(list):\n",
        "  for i in range(len(list)):\n",
        "    for j in range(i+1,len(list)):\n",
        "      if list[i]<list[j]:\n",
        "        return True\n",
        "    return False\n",
        "\n",
        "print(sorted([4,3,1,2]))\n",
        "print(sorted([1,3,2,4]))\n"
      ],
      "metadata": {
        "colab": {
          "base_uri": "https://localhost:8080/"
        },
        "id": "r69xV59pxIBt",
        "outputId": "98f9586d-f0c7-44b1-ff0c-e8601a7986da"
      },
      "execution_count": null,
      "outputs": [
        {
          "output_type": "stream",
          "name": "stdout",
          "text": [
            "False\n",
            "True\n"
          ]
        }
      ]
    },
    {
      "cell_type": "code",
      "source": [
        "# count number of capital letters in a string\n",
        "\n",
        "n=\"DataScience\"\n",
        "\n",
        "count=0\n",
        "\n",
        "for i in n:\n",
        "  if i.isupper():\n",
        "    count=count+1\n",
        "print(count)\n",
        "\n",
        "\n",
        "\n"
      ],
      "metadata": {
        "id": "z0QxmIcQ6sXu",
        "colab": {
          "base_uri": "https://localhost:8080/"
        },
        "outputId": "9390e24e-c3dc-4abb-9ca4-77720f99de65"
      },
      "execution_count": 4,
      "outputs": [
        {
          "output_type": "stream",
          "name": "stdout",
          "text": [
            "2\n"
          ]
        }
      ]
    },
    {
      "cell_type": "code",
      "source": [],
      "metadata": {
        "id": "LnLR6wsMeOuT"
      },
      "execution_count": null,
      "outputs": []
    }
  ]
}